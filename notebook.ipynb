{
 "cells": [
  {
   "cell_type": "markdown",
   "id": "2262bb62",
   "metadata": {},
   "source": [
    "### NLP Techniques:\n",
    "1. Sentiment Analysis\n",
    "2. Topic Modelling\n",
    "3. Text Generation\n",
    "\n",
    "### Data Science Workflow\n",
    "1. Start with a question\n",
    "2. Get and Clean Data\n",
    "3. Perform EDA\n",
    "4. Apply Techniques\n",
    "5. Share Insights\n",
    "\n",
    "`Corpus - a collection of texts`"
   ]
  },
  {
   "cell_type": "markdown",
   "id": "db62dd7a",
   "metadata": {},
   "source": [
    "# Step 1: Question - Why is Ali Wong different ?\n",
    "\n",
    "# Step 2: Data (Gathering and Cleaning)\n",
    "This is where you are going to need to __define the scope__ of your project based on your __domain expertise__.\n",
    "1. Corpus\n",
    "2. Document-Term Matrix"
   ]
  },
  {
   "cell_type": "code",
   "execution_count": null,
   "id": "d8a51a5d",
   "metadata": {},
   "outputs": [],
   "source": []
  }
 ],
 "metadata": {
  "kernelspec": {
   "display_name": "Python 3 (ipykernel)",
   "language": "python",
   "name": "python3"
  },
  "language_info": {
   "codemirror_mode": {
    "name": "ipython",
    "version": 3
   },
   "file_extension": ".py",
   "mimetype": "text/x-python",
   "name": "python",
   "nbconvert_exporter": "python",
   "pygments_lexer": "ipython3",
   "version": "3.9.7"
  }
 },
 "nbformat": 4,
 "nbformat_minor": 5
}
