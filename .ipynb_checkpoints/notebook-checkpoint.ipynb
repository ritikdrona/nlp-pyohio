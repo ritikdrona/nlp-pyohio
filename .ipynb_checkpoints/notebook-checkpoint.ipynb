{
 "cells": [
  {
   "cell_type": "markdown",
   "id": "2262bb62",
   "metadata": {},
   "source": [
    "### NLP Techniques:\n",
    "1. Sentiment Analysis\n",
    "2. Topic Modelling\n",
    "3. Text Generation\n",
    "\n",
    "### Data Science Workflow\n",
    "1. Start with a question\n",
    "2. Get and Clean Data\n",
    "3. Perform EDA\n",
    "4. Apply Techniques\n",
    "5. Share Insights\n",
    "\n",
    "`Corpus - a collection of texts`"
   ]
  },
  {
   "cell_type": "markdown",
   "id": "80a1740a",
   "metadata": {},
   "source": [
    "# "
   ]
  }
 ],
 "metadata": {
  "kernelspec": {
   "display_name": "Python 3 (ipykernel)",
   "language": "python",
   "name": "python3"
  },
  "language_info": {
   "codemirror_mode": {
    "name": "ipython",
    "version": 3
   },
   "file_extension": ".py",
   "mimetype": "text/x-python",
   "name": "python",
   "nbconvert_exporter": "python",
   "pygments_lexer": "ipython3",
   "version": "3.9.7"
  }
 },
 "nbformat": 4,
 "nbformat_minor": 5
}
